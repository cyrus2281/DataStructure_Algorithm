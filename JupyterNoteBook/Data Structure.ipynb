{
 "cells": [
  {
   "cell_type": "markdown",
   "metadata": {},
   "source": [
    "<a href=\"https://github.com/milad2281\">Author: milad2281</a>"
   ]
  },
  {
   "cell_type": "markdown",
   "metadata": {},
   "source": [
    "# Data Structure"
   ]
  },
  {
   "cell_type": "markdown",
   "metadata": {},
   "source": [
    "<div id=\"content\"></div>\n",
    "\n",
    "#### Content\n",
    "\n",
    "<ul>\n",
    "    <li><a href=\"#array\">Array</a>\n",
    "        <ul>\n",
    "            <li><a href=\"#2darray\">2-D Array</a></li>\n",
    "        </ul>\n",
    "    </li>\n",
    "    <li><a href=\"#hash\">Hash</a></li>\n",
    "    <li><a href=\"#linkedlist\">LinkedList</a>\n",
    "        <ul>\n",
    "            <li><a href=\"#singlyLinkedList\">Singly LinkedList</a></li>\n",
    "            <li><a href=\"#doublyLinkedList\">Doubly LinkedList</a></li>\n",
    "        </ul>\n",
    "    </li>\n",
    "    <li><a href=\"#stack\">Stack</a></li>\n",
    "    <li><a href=\"#queue\">Queue</a>\n",
    "        <ul>\n",
    "            <li><a href=\"#priorityqueue\">Priority Queue</a></li>\n",
    "        </ul>\n",
    "    </li>\n",
    "    <li><a href=\"#tree\">Tree</a>\n",
    "        <ul>\n",
    "            <li><a href=\"#binarytree\">Binary Tree</a></li>\n",
    "            <li><a href=\"#heap\">Heap</a></li>\n",
    "            <li><a href=\"#trie\">Trie</a></li>\n",
    "        </ul>\n",
    "    </li>\n",
    "    <li><a href=\"#graph\">Graph</a></li>\n",
    "    <br>\n",
    "    <li><a href=\"#references\">References</a></li><br>\n",
    "</ul>"
   ]
  },
  {
   "cell_type": "markdown",
   "metadata": {},
   "source": [
    "<div id=\"array\"></div>\n",
    "\n",
    "# Array \n",
    "\n",
    "<a href=\"#content\">top</a>"
   ]
  },
  {
   "cell_type": "markdown",
   "metadata": {},
   "source": [
    "lookup: O(1)<br>\n",
    "push: O(1)<br>\n",
    "insert: O(n)<br>\n",
    "delete: O(n)<br>"
   ]
  },
  {
   "cell_type": "markdown",
   "metadata": {},
   "source": [
    "static: they have specific size of elements<br>\n",
    "dynamic: their increases as new elements are added\n",
    "<br><br><img width=500 src=\"https://media.geeksforgeeks.org/wp-content/uploads/C-Arrays.jpg\">"
   ]
  },
  {
   "cell_type": "code",
   "execution_count": 22,
   "metadata": {},
   "outputs": [],
   "source": [
    "class Array:\n",
    "    \n",
    "    def __init__(self):\n",
    "        self.lenght=0\n",
    "        self.data = {}\n",
    "        \n",
    "    def lookup(self,index):\n",
    "        return self.data[index] \n",
    "    \n",
    "    def insert(self,item):\n",
    "        self.data[self.lenght]=item\n",
    "        self.lenght+=1\n",
    "        return self.lenght\n",
    "    \n",
    "    def pop(self):\n",
    "        temp =self.data[self.lenght-1]\n",
    "        del self.data[self.lenght-1]\n",
    "        self.lenght -=1\n",
    "        return temp\n",
    "    \n",
    "    def delete(self,index):\n",
    "        temp =self.data[index]\n",
    "        self._shiftItem(index)\n",
    "        del self.data[self.lenght-1]\n",
    "        self.lenght -=1\n",
    "        return temp\n",
    "    \n",
    "    def _shiftItem(self,index):\n",
    "        for i in range(index,self.lenght-1):\n",
    "            self.data[i] = self.data[i+1]\n",
    "            \n",
    "    def getAll(self):\n",
    "        return self.data\n"
   ]
  },
  {
   "cell_type": "code",
   "execution_count": 23,
   "metadata": {},
   "outputs": [
    {
     "name": "stdout",
     "output_type": "stream",
     "text": [
      "5\n",
      "{0: 5, 1: 10, 2: 20}\n"
     ]
    }
   ],
   "source": [
    "arr = Array()\n",
    "arr.insert(5)\n",
    "arr.insert(10)\n",
    "arr.insert(15)\n",
    "arr.insert(20)\n",
    "arr.insert(25)\n",
    "print(arr.lookup(0))\n",
    "arr.pop()\n",
    "arr.delete(2)\n",
    "print(arr.getAll())"
   ]
  },
  {
   "cell_type": "markdown",
   "metadata": {},
   "source": [
    "<div id=\"2darray\"></div>\n",
    "\n",
    "## Array > 2-D Array\n",
    "\n",
    "<a href=\"#content\">top</a>"
   ]
  },
  {
   "cell_type": "markdown",
   "metadata": {},
   "source": [
    "An array that holds other arrays.\n",
    "\n",
    "All the second dimension arrays must be identical in shape\n",
    "\n",
    "<br><br>\n",
    "<img src=\"https://cdn.career.guru99.com/wp-content/uploads/2017/06/Array_of_array_storage.svg_.png\">\n",
    "\n",
    "UP : row - 1\n",
    "\n",
    "RIGHT : col + 1\n",
    "\n",
    "DOWN : row + 1\n",
    "\n",
    "LEFT : col - 1"
   ]
  },
  {
   "cell_type": "markdown",
   "metadata": {},
   "source": [
    "<div id=\"hash\"></div>\n",
    "\n",
    "# Hash\n",
    "\n",
    "<a href=\"#content\">top</a>"
   ]
  },
  {
   "cell_type": "markdown",
   "metadata": {},
   "source": [
    "lookup: O(1) / O(n)<br>\n",
    "search: O(1)<br>\n",
    "insert: O(1)<br>\n",
    "delete: O(1)<br>"
   ]
  },
  {
   "cell_type": "markdown",
   "metadata": {},
   "source": [
    "Collision can slow down the hash table, multiple hash keys are stored in the same row<br>\n",
    "O(n/k) -> O(n)\n",
    "(k is the number of rows in hash table)\n",
    "<br><br><img width=500 src=\"https://upload.wikimedia.org/wikipedia/commons/thumb/7/7d/Hash_table_3_1_1_0_1_0_0_SP.svg/1280px-Hash_table_3_1_1_0_1_0_0_SP.svg.png\">"
   ]
  },
  {
   "cell_type": "code",
   "execution_count": 24,
   "metadata": {
    "scrolled": true
   },
   "outputs": [],
   "source": [
    "class Hash:\n",
    "    def __init__(self,size=10):\n",
    "        self.data = [None for i in range(size)]\n",
    "        \n",
    "    def _hash(self, key):\n",
    "        hsh = 0\n",
    "        for i in range(len(key)):\n",
    "            hsh = (hsh + ord(key[i]) * i ) % len(self.data)\n",
    "        return hsh\n",
    "    \n",
    "    def insert(self,key,value):\n",
    "        address = self._hash(key)\n",
    "        if not self.data[address]:\n",
    "            self.data[address] = []\n",
    "        self.data[address].append((key,value))\n",
    "        \n",
    "    def lookup(self,key):\n",
    "        address = self._hash(key)\n",
    "        for a,b in self.data[address]:\n",
    "            if a == key:\n",
    "                return b \n",
    "            \n",
    "    def keys(self):\n",
    "        keys= []\n",
    "        for a in self.data:\n",
    "            if a:\n",
    "                for i,j in a:\n",
    "                    keys.append(i)\n",
    "        return keys\n",
    "    \n",
    "    def get_hash(self):\n",
    "        return self.data\n"
   ]
  },
  {
   "cell_type": "code",
   "execution_count": 25,
   "metadata": {},
   "outputs": [
    {
     "name": "stdout",
     "output_type": "stream",
     "text": [
      "[None, [('grapes', 1000), ('oranges', 500), ('apples', 2000), ('pears', 100)]]\n",
      "500\n",
      "['grapes', 'oranges', 'apples', 'pears']\n"
     ]
    }
   ],
   "source": [
    "        \n",
    "hsh = Hash(2)\n",
    "hsh.insert(\"grapes\",1000)\n",
    "hsh.insert(\"oranges\",500)\n",
    "hsh.insert(\"apples\",2000)\n",
    "hsh.insert(\"pears\",100)\n",
    "print(hsh.get_hash())\n",
    "print(hsh.lookup('oranges'))\n",
    "print(hsh.keys())"
   ]
  },
  {
   "cell_type": "markdown",
   "metadata": {},
   "source": [
    "<div id=\"linkedlist\"></div>\n",
    "\n",
    "# Linked List\n",
    "\n",
    "<a href=\"#content\">top</a>"
   ]
  },
  {
   "cell_type": "markdown",
   "metadata": {},
   "source": [
    "prepend O(1)<br>\n",
    "append O(1)<br>\n",
    "lookup O(n)<br>\n",
    "insert O(n)<br>\n",
    "delete O(n)\n",
    "<br><br><img width=500 src=\"https://i2.wp.com/algorithms.tutorialhorizon.com/files/2016/03/Doubly-Linked-List.png\">"
   ]
  },
  {
   "cell_type": "markdown",
   "metadata": {},
   "source": [
    "<div id=\"singlyLinkedList\"></div>\n",
    "\n",
    "## Linked List > Singly Linked List\n",
    "\n",
    "<a href=\"#content\">top</a>"
   ]
  },
  {
   "cell_type": "code",
   "execution_count": 26,
   "metadata": {},
   "outputs": [],
   "source": [
    "class SinglyLinkedList:\n",
    "    def __init__(self):\n",
    "        self.head = None\n",
    "        self.tail = None\n",
    "        self.size = 0\n",
    "        \n",
    "    def append(self,value):\n",
    "        node = self.Node(value)\n",
    "        if not self.head:\n",
    "            self.head = self.tail = node\n",
    "        self.tail.nxt = node\n",
    "        self.tail = node\n",
    "        self.size += 1\n",
    "        \n",
    "    def lookup(self, index):\n",
    "        if index == 0:\n",
    "            return self.head.value\n",
    "        temp = self.head\n",
    "        for i in range(index):\n",
    "            temp = temp.nxt\n",
    "        if not temp:\n",
    "            return None\n",
    "        return temp.value\n",
    "        \n",
    "    def delete(self,index):\n",
    "        if index == 0:\n",
    "            self.head = self.head.nxt\n",
    "        temp = self.head\n",
    "        for i in range(index):\n",
    "            prev = temp\n",
    "            temp = temp.nxt        \n",
    "        prev.nxt = temp.nxt\n",
    "        \n",
    "    class Node:\n",
    "        def __init__(self,value):\n",
    "            self.nxt = None\n",
    "            self.value = value"
   ]
  },
  {
   "cell_type": "code",
   "execution_count": 27,
   "metadata": {},
   "outputs": [
    {
     "name": "stdout",
     "output_type": "stream",
     "text": [
      "Hi\n",
      "Hello\n",
      "bye\n",
      "Hi\n",
      "bye\n"
     ]
    }
   ],
   "source": [
    "lst =  SinglyLinkedList()\n",
    "lst.append(\"Hi\")\n",
    "lst.append(\"Hello\")\n",
    "lst.append(\"bye\")\n",
    "print(lst.lookup(0))\n",
    "print(lst.lookup(1))\n",
    "print(lst.lookup(2))\n",
    "lst.delete(1)\n",
    "print(lst.lookup(0))\n",
    "print(lst.lookup(1))"
   ]
  },
  {
   "cell_type": "markdown",
   "metadata": {},
   "source": [
    "<div id=\"doublyLinkedList\"></div>\n",
    "\n",
    "## Linked List > Doubly Linked List\n",
    "\n",
    "<a href=\"#content\">top</a>"
   ]
  },
  {
   "cell_type": "code",
   "execution_count": 28,
   "metadata": {},
   "outputs": [],
   "source": [
    "class DoublyLinkedList:\n",
    "    def __init__(self):\n",
    "        self.head = None\n",
    "        self.tail = None\n",
    "        self.size = 0\n",
    "        \n",
    "    def append(self,value):\n",
    "        node = self.Node(value)\n",
    "        if not self.head:\n",
    "            self.head = self.tail = node\n",
    "        self.tail.nxt = node\n",
    "        node.prev = self.tail\n",
    "        self.tail = node\n",
    "        self.size += 1\n",
    "        \n",
    "    def lookup(self, index):\n",
    "        if index == 0:\n",
    "            return self.head.value\n",
    "        temp = self.head\n",
    "        for i in range(index):\n",
    "            temp = temp.nxt\n",
    "        if not temp:\n",
    "            return None\n",
    "        return temp.value\n",
    "        \n",
    "    def delete(self,index):\n",
    "        if index == 0:\n",
    "            self.head = self.head.nxt\n",
    "        temp = self.head\n",
    "        for i in range(index):\n",
    "            temp = temp.nxt        \n",
    "        temp.prev.nxt = temp.nxt\n",
    "\n",
    "    class Node:\n",
    "        def __init__(self,value):\n",
    "            self.nxt = None\n",
    "            self.prev = None\n",
    "            self.value = value"
   ]
  },
  {
   "cell_type": "code",
   "execution_count": 29,
   "metadata": {},
   "outputs": [
    {
     "name": "stdout",
     "output_type": "stream",
     "text": [
      "Hi\n",
      "Hello\n",
      "bye\n",
      "Hi\n",
      "bye\n"
     ]
    }
   ],
   "source": [
    "lst =  DoublyLinkedList()\n",
    "lst.append(\"Hi\")\n",
    "lst.append(\"Hello\")\n",
    "lst.append(\"bye\")\n",
    "print(lst.lookup(0))\n",
    "print(lst.lookup(1))\n",
    "print(lst.lookup(2))\n",
    "lst.delete(1)\n",
    "print(lst.lookup(0))\n",
    "print(lst.lookup(1))"
   ]
  },
  {
   "cell_type": "markdown",
   "metadata": {},
   "source": [
    "<div id=\"stack\"></div>\n",
    "\n",
    "# Stack\n",
    "\n",
    "<a href=\"#content\">top</a>"
   ]
  },
  {
   "cell_type": "markdown",
   "metadata": {},
   "source": [
    "lookup O(n)<br>\n",
    "pop O(1)<br>\n",
    "push O(1)<br>\n",
    "peek O(1)\n",
    "\n",
    "LIFO<br>\n",
    "with either array or LinkedList<br>\n",
    "array: faster but predefined size<br>\n",
    "linked list: slower but with unlimited size\n",
    "<br><br><img width=500 src=\"https://cdn.programiz.com/sites/tutorial2program/files/stack.png\">"
   ]
  },
  {
   "cell_type": "code",
   "execution_count": 30,
   "metadata": {},
   "outputs": [],
   "source": [
    "class Stack:\n",
    "    def __init__(self):\n",
    "        self.head = None\n",
    "        self.tail = None\n",
    "        self.size = 0\n",
    "        \n",
    "    def push(self,value):\n",
    "        node = self.Node(value)\n",
    "        if not self.head:\n",
    "            self.head = self.tail = node\n",
    "        self.tail.nxt = node\n",
    "        node.prev = self.tail\n",
    "        self.tail = node\n",
    "        self.size += 1\n",
    "        \n",
    "    def peek(self):\n",
    "            return self.tail.value\n",
    "        \n",
    "    def pop(self):    \n",
    "        self.tail.prev.nxt = None\n",
    "        self.tail = self.tail.prev\n",
    "        self.size -= 1\n",
    "\n",
    "    class Node:\n",
    "        def __init__(self,value):\n",
    "            self.nxt = None\n",
    "            self.prev = None\n",
    "            self.value = value"
   ]
  },
  {
   "cell_type": "code",
   "execution_count": 31,
   "metadata": {},
   "outputs": [
    {
     "name": "stdout",
     "output_type": "stream",
     "text": [
      "bye\n",
      "Hello\n"
     ]
    }
   ],
   "source": [
    "lst =  Stack()\n",
    "lst.push(\"Hi\")\n",
    "lst.push(\"Hello\")\n",
    "lst.push(\"bye\")\n",
    "print(lst.peek())\n",
    "lst.pop()\n",
    "print(lst.peek())"
   ]
  },
  {
   "cell_type": "markdown",
   "metadata": {},
   "source": [
    "<div id=\"queue\"></div>\n",
    "\n",
    "# Queue\n",
    "\n",
    "<a href=\"#content\">top</a>"
   ]
  },
  {
   "cell_type": "markdown",
   "metadata": {},
   "source": [
    "lookup O(n)<br>\n",
    "enqueue O(1)<br>\n",
    "dequeue O(1)<br>\n",
    "peek O(1)\n",
    "\n",
    "FIFO<br>\n",
    "best to use with linked list (beacuse array has to shift all elements to left to remove the first element)\n",
    "<br><br><img width=500 src=\"https://upload.wikimedia.org/wikipedia/commons/5/52/Data_Queue.svg\">"
   ]
  },
  {
   "cell_type": "code",
   "execution_count": 32,
   "metadata": {},
   "outputs": [],
   "source": [
    "class Queue:\n",
    "    def __init__(self):\n",
    "        self.head = None\n",
    "        self.tail = None\n",
    "        self.size = 0\n",
    "        \n",
    "    def enqueue(self,value):\n",
    "        node = self.Node(value)\n",
    "        if not self.head:\n",
    "            self.head = self.tail = node\n",
    "        self.tail.nxt = node\n",
    "        node.prev = self.tail\n",
    "        self.tail = node\n",
    "        self.size += 1\n",
    "        \n",
    "    def peek(self):\n",
    "            return self.head.value\n",
    "        \n",
    "    def dequeue(self):    \n",
    "        self.head.nxt.prev = None\n",
    "        self.head = self.head.nxt\n",
    "        self.size -= 1\n",
    "\n",
    "    class Node:\n",
    "        def __init__(self,value):\n",
    "            self.nxt = None\n",
    "            self.prev = None\n",
    "            self.value = value"
   ]
  },
  {
   "cell_type": "code",
   "execution_count": 33,
   "metadata": {
    "scrolled": true
   },
   "outputs": [
    {
     "name": "stdout",
     "output_type": "stream",
     "text": [
      "Hi\n",
      "Hello\n"
     ]
    }
   ],
   "source": [
    "lst =  Queue()\n",
    "lst.enqueue(\"Hi\")\n",
    "lst.enqueue(\"Hello\")\n",
    "lst.enqueue(\"bye\")\n",
    "print(lst.peek())\n",
    "lst.dequeue()\n",
    "print(lst.peek())"
   ]
  },
  {
   "cell_type": "markdown",
   "metadata": {},
   "source": [
    "\n",
    "<div id=\"priorityqueue\"></div>\n",
    "\n",
    "## Queue > Priority Queue\n",
    "\n",
    "<a href=\"#content\">top</a>"
   ]
  },
  {
   "cell_type": "markdown",
   "metadata": {},
   "source": [
    "Priority Queues are like normal queue except instead of first in first out, it is the value with highest prioriy is out first\n",
    "\n",
    "lookup: O(n)<br>\n",
    "insert; O(log N)<br>\n",
    "delete: O(log N)<br><br>\n",
    "\n",
    "Priority Queues are based on heaps (<a href=\"#heap\">check Heaps</a>)\n",
    "<img src=\"https://cdn.programiz.com/sites/tutorial2program/files/insert-1_0.png\">"
   ]
  },
  {
   "cell_type": "code",
   "execution_count": 34,
   "metadata": {},
   "outputs": [
    {
     "name": "stdout",
     "output_type": "stream",
     "text": [
      "[20, 10, 15, 3, 5, 7]\n",
      "[15, 10, 3, 5, 7]\n",
      "[10, 3, 5, 7]\n"
     ]
    }
   ],
   "source": [
    "class PriorityQueue:\n",
    "    def __init__(self, comparator = lambda a,b : a>b):\n",
    "        self._heap = []\n",
    "        self._comparator = comparator\n",
    "        \n",
    "    def size(self):\n",
    "        return len(self._heap)\n",
    "    \n",
    "    def isEmpty(self):\n",
    "        return self.size() == 0\n",
    "    \n",
    "    def peek(self):\n",
    "        if not self.isEmpty():\n",
    "            return self._heap[0]\n",
    "        else:\n",
    "            return None\n",
    "    \n",
    "    def push(self, value):\n",
    "        idx = self.size()\n",
    "        self._heap.append(value)\n",
    "        while idx > 0 and self._compare(idx,self._parent(idx)):\n",
    "            self._swap(idx,self._parent(idx))\n",
    "            idx = self._parent(idx)\n",
    "        \n",
    "    def pop(self):\n",
    "        if not self.isEmpty():\n",
    "            first = self._heap[0]\n",
    "            self._heap = self._heap[1:] \n",
    "            idx = 0 \n",
    "            while (self.size() > self._left(idx) and self._compare(self._left(idx),idx)) or (self.size() > self._right(idx) and self._compare(self._right(idx),idx)):\n",
    "                if  (self.size() > self._left(idx) and self._compare(self._left(idx),idx)):\n",
    "                    self._swap(self._left(idx),idx)\n",
    "                    idx = self._left(idx)\n",
    "                else:\n",
    "                    self._swap(self._right(idx),idx)    \n",
    "                    idx = self._right(idx)\n",
    "            return first\n",
    "        else:\n",
    "            return None\n",
    "        \n",
    "    def print(self):\n",
    "        print(self._heap)\n",
    "\n",
    "    def _parent(self,idx):\n",
    "        return (idx-1)//2\n",
    "        \n",
    "    def _left(self,idx):\n",
    "        return (idx*2)+1     \n",
    "        \n",
    "    def _right(self,idx):\n",
    "        return (idx*2)+2\n",
    "        \n",
    "    def _swap(self,i,j):\n",
    "        self._heap[i],self._heap[j]=self._heap[j],self._heap[i]\n",
    "            \n",
    "    def _compare(self,i,j):\n",
    "        return self._comparator(self._heap[i],self._heap[j])\n",
    "\n",
    "pq = PriorityQueue(lambda a,b : a>b)\n",
    "for i in [3,15,7,10,5,20]:\n",
    "    pq.push(i)\n",
    "pq.print()\n",
    "pq.pop()\n",
    "pq.print()\n",
    "pq.pop()\n",
    "pq.print()"
   ]
  },
  {
   "cell_type": "markdown",
   "metadata": {},
   "source": [
    "<div id=\"tree\"></div>\n",
    "\n",
    "# Tree\n",
    "\n",
    "<a href=\"#content\">top</a>"
   ]
  },
  {
   "cell_type": "markdown",
   "metadata": {},
   "source": [
    "\n",
    "<div id=\"binarytree\"></div>\n",
    "\n",
    "## Tree > Binary Tree\n",
    "\n",
    "<a href=\"#content\">top</a>"
   ]
  },
  {
   "cell_type": "markdown",
   "metadata": {},
   "source": [
    "Perfect Binary Tree: All branches have 2 leaf<br>\n",
    "Full Binary Tree: Each branch has either 2 leaves or no leaves<br><br>\n",
    "Balanced:<br>\n",
    "lookup: O(log N)<br>\n",
    "insert; O(log N)<br>\n",
    "delete: O(log N)<br><br>\n",
    "Unbalanced / Degenerate:<br>\n",
    "lookup: O(n)<br>\n",
    "insert; O(n)<br>\n",
    "delete: O(n)<br><br>\n",
    "<img src=\"https://miro.medium.com/max/16000/1*CMGFtehu01ZEBgzHG71sMg.png\">"
   ]
  },
  {
   "cell_type": "code",
   "execution_count": 35,
   "metadata": {},
   "outputs": [],
   "source": [
    "class Node:\n",
    "    def __init__(self,value):\n",
    "        self.left = None\n",
    "        self.right = None\n",
    "        self.value = value"
   ]
  },
  {
   "cell_type": "markdown",
   "metadata": {},
   "source": [
    "### Binary Search Tree"
   ]
  },
  {
   "cell_type": "code",
   "execution_count": 36,
   "metadata": {},
   "outputs": [
    {
     "name": "stdout",
     "output_type": "stream",
     "text": [
      "True\n",
      "False\n",
      "both leaf\n",
      "False\n"
     ]
    }
   ],
   "source": [
    "class BinarySearchTree:\n",
    "    def __init__(self):\n",
    "        self.root = None\n",
    "    \n",
    "    def insert(self, value):\n",
    "        leaf = Node(value)\n",
    "        if not self.root:\n",
    "            self.root = leaf\n",
    "            return\n",
    "        node = self.root\n",
    "        while node:\n",
    "            temp = node\n",
    "            if leaf.value < node.value:\n",
    "                node = node.left\n",
    "                if not node:\n",
    "                    temp.left = leaf\n",
    "            else:\n",
    "                node = node.right\n",
    "                if not node:\n",
    "                    temp.right = leaf\n",
    "            \n",
    "    #divide and conquer\n",
    "    def lookup(self,value):\n",
    "        if self.root.value == value:\n",
    "            return True\n",
    "        node = self.root\n",
    "        while node:\n",
    "            if value < node.value:\n",
    "                node = node.left\n",
    "            elif value == node.value:\n",
    "                return True\n",
    "            else:\n",
    "                node = node.right\n",
    "        return False\n",
    "    \n",
    "    def remove(self,value):\n",
    "        node = self.root\n",
    "        parent = node\n",
    "        left = True\n",
    "        while node:\n",
    "            if value < node.value:\n",
    "                parent = node\n",
    "                node = node.left\n",
    "                left = True\n",
    "            elif value > node.value:\n",
    "                parent = node\n",
    "                node = node.right\n",
    "                left = False\n",
    "            else:\n",
    "                if not (node.left and node.right):\n",
    "                    print(\"no leaf\")\n",
    "                    print(parent)\n",
    "                    print(node)\n",
    "                    if left:\n",
    "                        parent.left = None\n",
    "                    else:\n",
    "                        parent.right = None\n",
    "                elif node.left and not node.right:\n",
    "                    print(\"left leaf\")\n",
    "                    if left:\n",
    "                        parent.left = node.left\n",
    "                    else:\n",
    "                        parent.right = node.left\n",
    "                elif node.right and not node.left:\n",
    "                    print(\"right leaf\")\n",
    "                    if left:\n",
    "                        parent.left = node.right\n",
    "                    else:\n",
    "                        parent.right = node.right\n",
    "                elif node.left and node.right:\n",
    "                    print(\"both leaf\")\n",
    "                    nodeRight = node.right\n",
    "                    nodeLeft = node.left\n",
    "                    nodeLowest = node.left\n",
    "                    nodeLowestParent = node\n",
    "                    while nodeLowest.left:\n",
    "                        nodeLowestParent = nodeLowest\n",
    "                        nodeLowest = nodeLowest.left\n",
    "                    if nodeLowest.right:\n",
    "                        nodeLowestParent.left = nodeLowest.right\n",
    "                    \n",
    "                    nodeLowest.left = nodeLeft\n",
    "                    nodeLowest.right = nodeRight\n",
    "                    if left:\n",
    "                        parent.left = nodeLowest\n",
    "                    else:\n",
    "                        parent.right = nodeLowest\n",
    "                return True\n",
    "        return False\n",
    "\"\"\"\n",
    "     9\n",
    "   /   \\\n",
    "  4     20\n",
    " / \\   /  \\\n",
    "1   6 15  170\n",
    "\"\"\"\n",
    "tree = BinarySearchTree()\n",
    "tree.insert(9)\n",
    "tree.insert(4)\n",
    "tree.insert(6)\n",
    "tree.insert(20)\n",
    "tree.insert(170)\n",
    "tree.insert(15)\n",
    "tree.insert(1)\n",
    "\n",
    "print(tree.lookup(15))\n",
    "print(tree.lookup(10))\n",
    "tree.remove(4)\n",
    "print(tree.lookup(4))"
   ]
  },
  {
   "cell_type": "markdown",
   "metadata": {},
   "source": [
    "AVL and Red/Black trees perform auto balancing"
   ]
  },
  {
   "cell_type": "markdown",
   "metadata": {},
   "source": [
    "<div id=\"heap\"></div>\n",
    "\n",
    "## Tree > Heap\n",
    "\n",
    "<a href=\"#content\">top</a>"
   ]
  },
  {
   "cell_type": "markdown",
   "metadata": {},
   "source": [
    "lookup: O(n)<br>\n",
    "insert; O(log N)<br>\n",
    "delete: O(log N)<br><br>\n",
    "Max Heap: every child node has a lower value than the parent node<br>\n",
    "Min Heap: the root node is the smallest<br><br>\n",
    "heap is different from binary search tree as in BST nodes where in order (left for smaller, right for bigger),<br> \n",
    "but in heap both childern are either smaller or bigger. This is maintaned using up bubbling that each time the balanced is destroyed, the nodes swape with the parent and bubble up till the balance is restored<br><br>\n",
    "\n",
    "heaps are useful when we want a group of values, for example for values higher than 20, we would just pick all nodes above 20<br><br>\n",
    "\n",
    "Priority Queue is one of the uses of the heap<br><br>\n",
    "<img width=500 src=\"https://media.geeksforgeeks.org/wp-content/cdn-uploads/MinHeapAndMaxHeap.png\">"
   ]
  },
  {
   "cell_type": "markdown",
   "metadata": {},
   "source": [
    "A heap can be written as an array as follows:\n",
    "\n",
    "Max Heap: [100,40,50,10,15,50,40]\n",
    "\n",
    "\n",
    "parent: floor((idx - 1) / 2)      \n",
    "=> parent of 15: ((4-1) / 2) = 1\n",
    "\n",
    "left  : (idx * 2) + 1             \n",
    "=> left of 40  : (1 * 2) + 1 = 3\n",
    "\n",
    "right : (idx * 2) + 2             \n",
    "=> right of 40 : (1 * 2) + 2 = 4\n",
    "\n",
    "<br><br>\n",
    "Adding to heap:\n",
    "\n",
    "Add the value to the last index, then Bubble up. The value should be smaller than all of its parent, if not, swap\n",
    "\n",
    "Removing from heap:\n",
    "\n",
    "remove the value, and swap it with its first child. The child should be bigger than its left and rigth children, if not swap."
   ]
  },
  {
   "cell_type": "markdown",
   "metadata": {},
   "source": [
    "<div id=\"trie\"></div>\n",
    "\n",
    "## Tree > Trie\n",
    "\n",
    "<a href=\"#content\">top</a>"
   ]
  },
  {
   "cell_type": "markdown",
   "metadata": {},
   "source": [
    "Trie allows you to know if a word or part of a word exists in a body of text<br>\n",
    "AKA Prefix Tree<br><br>\n",
    "O (lenght of the word)<br><br>\n",
    "It is mainly used with strings.\n",
    " A use if this tree can be for auto-completion\n",
    "<br><br><img width=500 src=\"https://upload.wikimedia.org/wikipedia/commons/b/be/Trie_example.svg\">"
   ]
  },
  {
   "cell_type": "code",
   "execution_count": 2,
   "metadata": {},
   "outputs": [
    {
     "name": "stdout",
     "output_type": "stream",
     "text": [
      "True\n",
      "False\n",
      "True\n"
     ]
    }
   ],
   "source": [
    "class Trie:\n",
    "    class Node:\n",
    "        def __init__(self):\n",
    "            self.end = False\n",
    "            self.keys = {}\n",
    "\n",
    "    def __init__(self):\n",
    "        self.root = self.Node()\n",
    "        \n",
    "\n",
    "    def insert(self, word: str) -> None:\n",
    "        lst = list(word)\n",
    "        node = self.root\n",
    "        for index,char in enumerate(lst):\n",
    "            if char not in node.keys:\n",
    "                node.keys[char] = self.Node()\n",
    "            if index == len(lst)-1:\n",
    "                node.keys[char].end = True\n",
    "            node = node.keys[char]\n",
    "        \n",
    "\n",
    "    def search(self, word: str) -> bool:\n",
    "        lst = list(word)\n",
    "        node = self.root\n",
    "        for index,char in enumerate(lst):\n",
    "            if char not in node.keys:\n",
    "                return False\n",
    "            if index == len(lst)-1:\n",
    "                return node.keys[char].end\n",
    "            node = node.keys[char]\n",
    "        \n",
    "\n",
    "    def startsWith(self, prefix: str) -> bool:\n",
    "        lst = list(prefix)\n",
    "        node = self.root\n",
    "        for index,char in enumerate(lst):\n",
    "            if char not in node.keys:\n",
    "                return False\n",
    "            node = node.keys[char]\n",
    "        return True\n",
    "\n",
    "trie = Trie()\n",
    "trie.insert(\"apple\")\n",
    "print(trie.search(\"apple\"))#returns true\n",
    "print(trie.search(\"app\"))# returns false\n",
    "print(trie.startsWith(\"app\"))# returns true"
   ]
  },
  {
   "cell_type": "markdown",
   "metadata": {},
   "source": [
    "<div id=\"graph\"></div>\n",
    "\n",
    "# Graph\n",
    "\n",
    "<a href=\"#content\">top</a>"
   ]
  },
  {
   "attachments": {
    "image-2.png": {
     "image/png": "[encoded data removed]"
    },
    "image-3.png": {
     "image/png": "[encoded data removed]"
    },
    "image.png": {
     "image/png": "[encoded data removed]"
    }
   },
   "cell_type": "markdown",
   "metadata": {},
   "source": [
    "![image-3.png](attachment:image-3.png)\n",
    "<br><br>\n",
    "A set of values that are related in a pair wise passion<br>\n",
    "Node (Vertex) are connected with Edges<br><br>\n",
    "### Types of Graphs\n",
    "\n",
    "#### Directed/Undirected\n",
    "Directed Graphs: A kind of system where the movement is not bio directional, eg traffic flow, Twitter\n",
    "<br>\n",
    "Undirected Graphs: A system where the movement is bio directional, eg Highways, FaceBook\n",
    "<br><br>\n",
    "![image.png](attachment:image.png)\n",
    "\n",
    "#### Wieghted/ Unwieghted\n",
    "Wieghted Graphs: only the nodes have values\n",
    "<br>\n",
    "Unwieghted Graphs: Information can be also added to the edges\n",
    "<br><br>\n",
    "![image-2.png](attachment:image-2.png)\n",
    "#### Cyclic/ Acyclic\n",
    "Cyclic Graphs: A system where there is a cycle and you can reach the first node by only moving forward. System with loops.\n",
    "<br>\n",
    "Acyclic Graphs: A system where there is no cycle. You can not reach the fist node by just moving forward.  System without loops.\n",
    "<br><br><img width=500 src=\"https://www2.imm.dtu.dk/projects/graph/images/fig_graph_structures/cyclicVSacyclic.png\">"
   ]
  },
  {
   "cell_type": "markdown",
   "metadata": {},
   "source": [
    "### Implementing Graphs"
   ]
  },
  {
   "cell_type": "markdown",
   "metadata": {},
   "source": [
    "###### Edge List\n",
    "An Edge list graph can be create using an array of pair holding the values of the edges"
   ]
  },
  {
   "cell_type": "code",
   "execution_count": 37,
   "metadata": {},
   "outputs": [],
   "source": [
    "\"\"\"\n",
    "    2 --- 0 \n",
    "   / \\\n",
    "  /   \\\n",
    " 1 --- 3\n",
    "\"\"\"\n",
    "graph = [[0,2],[2,1],[2,3],[1,3]]"
   ]
  },
  {
   "cell_type": "markdown",
   "metadata": {},
   "source": [
    "###### Adjacent List\n",
    "An Adjacent list graph can be create using an array where the index is the node and the value is the nodes neighbors"
   ]
  },
  {
   "cell_type": "code",
   "execution_count": 38,
   "metadata": {},
   "outputs": [],
   "source": [
    "\"\"\"\n",
    "    2 --- 0 \n",
    "   / \\\n",
    "  /   \\\n",
    " 1 --- 3\n",
    "\"\"\"\n",
    "graph = [[2],[2,3],[0,1,3],[1,2]] #The index of the array is the value of the actual graph node"
   ]
  },
  {
   "cell_type": "markdown",
   "metadata": {},
   "source": [
    "###### Adjacent Matrix\n",
    "An Adjacent Matrix graph can be create using a matrix, each index has an array representing all the other value. \n",
    "<br>1 for has a conection and 0 for no connection. if weighted, the weights instead of 0 or 1."
   ]
  },
  {
   "cell_type": "code",
   "execution_count": 39,
   "metadata": {},
   "outputs": [],
   "source": [
    "\"\"\"\n",
    "    2 --- 0 \n",
    "   / \\\n",
    "  /   \\\n",
    " 1 --- 3\n",
    "\"\"\"\n",
    "graph = [\n",
    "    [0,0,1,0],\n",
    "    [0,0,1,1],\n",
    "    [1,1,0,1],\n",
    "    [0,1,1,0]\n",
    "        \n",
    "        ] #The index of each array is the value of the actual graph node"
   ]
  },
  {
   "cell_type": "code",
   "execution_count": 40,
   "metadata": {},
   "outputs": [],
   "source": [
    "# Undirected Unweighted Graph\n",
    "class Graph:\n",
    "    def __init__(self):\n",
    "        self.numberOfNodes = 0\n",
    "        self.adjacentList = {}\n",
    "        \n",
    "    def addVertex(self,node):\n",
    "        self.adjacentList[node]= []\n",
    "        \n",
    "    def addEdge(self, node1,node2):\n",
    "        self.adjacentList[node1].append(node2)\n",
    "        self.adjacentList[node2].append(node1)\n",
    "        \n",
    "    def showConnections(self):\n",
    "        allNodes = self.adjacentList.keys(); \n",
    "        for node in allNodes: \n",
    "            nodeConnections = self.adjacentList[node]; \n",
    "            connections = \"\"; \n",
    "            for vertex in nodeConnections:\n",
    "                connections += vertex + \" \";\n",
    "            print(node + \"-->\" + connections); "
   ]
  },
  {
   "cell_type": "code",
   "execution_count": 41,
   "metadata": {},
   "outputs": [
    {
     "name": "stdout",
     "output_type": "stream",
     "text": [
      "0-->1 2 \n",
      "1-->3 2 0 \n",
      "2-->4 1 0 \n",
      "3-->1 4 \n",
      "4-->3 2 5 \n",
      "5-->4 6 \n",
      "6-->5 \n"
     ]
    }
   ],
   "source": [
    "\"\"\"\n",
    " 3 --- 4 --- 5\n",
    " |     |     |\n",
    " 1 --- 2     6\n",
    "  \\   /\n",
    "    0\n",
    "\"\"\"\n",
    "myGraph = Graph();\n",
    "myGraph.addVertex('0');\n",
    "myGraph.addVertex('1');\n",
    "myGraph.addVertex('2');\n",
    "myGraph.addVertex('3');\n",
    "myGraph.addVertex('4');\n",
    "myGraph.addVertex('5');\n",
    "myGraph.addVertex('6');\n",
    "myGraph.addEdge('3', '1'); \n",
    "myGraph.addEdge('3', '4'); \n",
    "myGraph.addEdge('4', '2'); \n",
    "myGraph.addEdge('4', '5'); \n",
    "myGraph.addEdge('1', '2'); \n",
    "myGraph.addEdge('1', '0'); \n",
    "myGraph.addEdge('0', '2'); \n",
    "myGraph.addEdge('6', '5');\n",
    "\n",
    "myGraph.showConnections(); "
   ]
  },
  {
   "cell_type": "markdown",
   "metadata": {},
   "source": [
    "<div id=\"references\"></div>\n",
    "\n",
    "\n",
    "\n",
    "# References \n",
    "\n",
    "\n",
    "\n",
    "<a href=\"#content\">top</a>"
   ]
  },
  {
   "cell_type": "markdown",
   "metadata": {},
   "source": [
    "### Instructors\n",
    "- Andrei Neagoie: Master the Coding Interview: Data Structures + Algorithms\n",
    "\n",
    "    https://academy.zerotomastery.io/p/master-the-coding-interview-data-structures-algorithms\n",
    "\n",
    "\n",
    "\n",
    "- Yihua Zhang: Master the Coding Interview: Big Tech (FAANG) Interviews\n",
    "\n",
    "    https://academy.zerotomastery.io/p/master-the-coding-interview-faang-interview-prep\n",
    "\n",
    "\n",
    "\n",
    "### Aditional Resources\n",
    "\n",
    "- http://stoimen.com/2012/08/31/computer-algorithms-graphs-and-their-representation/\n",
    "\n"
   ]
  }
 ],
 "metadata": {
  "kernelspec": {
   "display_name": "Python 3",
   "language": "python",
   "name": "python3"
  },
  "language_info": {
   "codemirror_mode": {
    "name": "ipython",
    "version": 3
   },
   "file_extension": ".py",
   "mimetype": "text/x-python",
   "name": "python",
   "nbconvert_exporter": "python",
   "pygments_lexer": "ipython3",
   "version": "3.8.8"
  }
 },
 "nbformat": 4,
 "nbformat_minor": 4
}
