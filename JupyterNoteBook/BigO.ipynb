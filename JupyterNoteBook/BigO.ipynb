{
 "cells": [
  {
   "cell_type": "markdown",
   "metadata": {},
   "source": [
    "# Big O"
   ]
  },
  {
   "cell_type": "markdown",
   "metadata": {},
   "source": [
    "How well a problem is solved\n",
    "\n",
    " What is good code?\n",
    "  <ol>\n",
    "    <li>Readable</li>\n",
    "    <li>Scalable</li>\n",
    " </ol>\n"
   ]
  },
  {
   "cell_type": "code",
   "execution_count": 1,
   "metadata": {},
   "outputs": [
    {
     "name": "stdout",
     "output_type": "stream",
     "text": [
      "found nemo\n",
      "The call took 4 seconds\n"
     ]
    }
   ],
   "source": [
    "import time\n",
    "nemo = ['spam']*100000000 + ['nemo']\n",
    "\n",
    "def findNemo(array):\n",
    "    t0 = time.time()\n",
    "    for a in array:\n",
    "        if a == 'nemo':\n",
    "            print(\"found nemo\")\n",
    "    t1 = time.time()\n",
    "    print(\"The call took %u seconds\" % (t1-t0))\n",
    "\n",
    "findNemo(nemo)"
   ]
  },
  {
   "cell_type": "markdown",
   "metadata": {},
   "source": [
    "time doesn't mean anything"
   ]
  },
  {
   "cell_type": "markdown",
   "metadata": {},
   "source": [
    "##### How does the efficiency of the function changes as the number of the elements increases?"
   ]
  },
  {
   "cell_type": "markdown",
   "metadata": {},
   "source": [
    "## Calculating Big O"
   ]
  },
  {
   "cell_type": "markdown",
   "metadata": {},
   "source": [
    "  Rules\n",
    "  <ol>\n",
    "    <li>Worst Cast</li>\n",
    "    <li>Remove Constants</li>\n",
    "    <li>Different terms for inputs</li>\n",
    "    <li>Drop Non Dominants</li>\n",
    " </ol>"
   ]
  },
  {
   "cell_type": "markdown",
   "metadata": {},
   "source": [
    "While calclating the big O, we always consider to worst case scenario. For example if we are searching in an array, we should assume that the element is the last element in the array"
   ]
  },
  {
   "cell_type": "markdown",
   "metadata": {},
   "source": [
    "Constant values that don't have meaning should be remove. For example constant value of substaction, addition, multiplication, and division don't have meanings and can be removed. That means O(100+5n-n/2) can be simplified as O(n)"
   ]
  },
  {
   "cell_type": "markdown",
   "metadata": {},
   "source": [
    "2 seperate inputs should have different notations.\n",
    "for example a function with inputs of 'a' and 'b' has a big O of O(a+b)"
   ]
  },
  {
   "cell_type": "markdown",
   "metadata": {},
   "source": [
    "if there are multiple O values, we should only keep the one with the heighest dominance. For example in big o of n+n^2, the big o is n^2"
   ]
  },
  {
   "cell_type": "markdown",
   "metadata": {},
   "source": [
    "Iterating through half a collection is still O(n)"
   ]
  },
  {
   "cell_type": "markdown",
   "metadata": {},
   "source": [
    "#### Things to count"
   ]
  },
  {
   "cell_type": "markdown",
   "metadata": {},
   "source": [
    "Operations (+, -, *, /)<br>\n",
    "Comparisons (<, >, ==)<br>\n",
    "Looping (for, while)<br>\n",
    "Outside Function call (function())<br>"
   ]
  },
  {
   "cell_type": "markdown",
   "metadata": {},
   "source": [
    "<img width=500 src=\"https://miro.medium.com/max/1400/1*5ZLci3SuR0zM_QlZOADv8Q.jpeg\" alt=\"bigocheatsheet.com\">"
   ]
  },
  {
   "cell_type": "markdown",
   "metadata": {},
   "source": [
    "<br><br><img width=500 src=\"https://lamfo-unb.github.io/img/Sorting-algorithms/Complexity.png\">"
   ]
  },
  {
   "cell_type": "markdown",
   "metadata": {},
   "source": [
    "## Big O notations\n",
    "\n",
    "  <ul>\n",
    "    <li>Linear : O(n)</li>\n",
    "    <li>Contant Time: O(1)</li>\n",
    "    <li>Quadratic Time: O(n^2)</li>\n",
    "    <li>Factorial Time: O(n!)</li>\n",
    "    <li>Logarithmic Time: O(log n)</li>\n",
    "    <li>Exponential Time: O(2^n) </li>\n",
    "    <li>Log Linear Time: O(n log(n))</li>\n",
    " </ul>"
   ]
  },
  {
   "cell_type": "markdown",
   "metadata": {},
   "source": [
    "###### Linear\n",
    "For loops, while loops through n items"
   ]
  },
  {
   "cell_type": "code",
   "execution_count": 2,
   "metadata": {},
   "outputs": [],
   "source": [
    "def linear(ar):\n",
    "    for a in ar: # O(n)\n",
    "        print(a) # O(1)\n",
    "# O(n)"
   ]
  },
  {
   "cell_type": "markdown",
   "metadata": {},
   "source": [
    "###### Constant Time\n",
    "No loops"
   ]
  },
  {
   "cell_type": "code",
   "execution_count": 3,
   "metadata": {},
   "outputs": [],
   "source": [
    "def constantTime(ar):\n",
    "    print(ar[0]) # O(1)\n",
    "    print(ar[1]) # O(1)\n",
    "# O(1)"
   ]
  },
  {
   "cell_type": "markdown",
   "metadata": {},
   "source": [
    "###### Quadratic Time\n",
    "Every element in a collection needs to be compared to ever other element. Two\n",
    "nested loops"
   ]
  },
  {
   "cell_type": "code",
   "execution_count": 4,
   "metadata": {},
   "outputs": [],
   "source": [
    "def quadraticTime(ar):\n",
    "    for a in ar: # O(n)\n",
    "        for b in ar: # O(n)\n",
    "            print(a,b) # O(1)\n",
    "# O(n^2)"
   ]
  },
  {
   "cell_type": "markdown",
   "metadata": {},
   "source": [
    "###### Factorial Time\n",
    "you are adding a loop for every element"
   ]
  },
  {
   "cell_type": "code",
   "execution_count": 5,
   "metadata": {},
   "outputs": [],
   "source": [
    "def factorialTime(num):  \n",
    "    sum = 0\n",
    "    if len(num) < 1:\n",
    "        return 1\n",
    "    for a in num:\n",
    "        sum += factorialSum(num[1:])\n",
    "    return sum\n",
    "# O(n!)       "
   ]
  },
  {
   "cell_type": "markdown",
   "metadata": {},
   "source": [
    "###### Logarithmic Time\n",
    "usually searching algorithms have log n if they are sorted (Binary Search)"
   ]
  },
  {
   "cell_type": "code",
   "execution_count": 6,
   "metadata": {},
   "outputs": [],
   "source": [
    "def binarySearch(arr, x):\n",
    "    low = 0\n",
    "    high = len(arr) - 1\n",
    "    mid = 0\n",
    "    while low <= high:\n",
    "        mid = (high + low) // 2\n",
    "        if arr[mid] < x:\n",
    "            low = mid + 1\n",
    "        elif arr[mid] > x:\n",
    "            high = mid - 1\n",
    "        else:\n",
    "            return mid\n",
    "    return -1"
   ]
  },
  {
   "cell_type": "markdown",
   "metadata": {},
   "source": [
    "###### Exponential Time\n",
    "recursive algorithms that solves a problem of size N"
   ]
  },
  {
   "cell_type": "code",
   "execution_count": 7,
   "metadata": {},
   "outputs": [],
   "source": [
    "def exponentialTime(num):\n",
    "    if num < 2:\n",
    "        return num\n",
    "    return fibonacci(num-1) + fibonacci(num-2)\n",
    "# O(2^n)"
   ]
  },
  {
   "cell_type": "markdown",
   "metadata": {},
   "source": [
    "###### Log Linear Time\n",
    "usually sorting operations\n"
   ]
  },
  {
   "cell_type": "code",
   "execution_count": 8,
   "metadata": {},
   "outputs": [],
   "source": [
    "def merge(left,right):\n",
    "    result = []\n",
    "    leftIndex = 0\n",
    "    rightIndex = 0\n",
    "    while leftIndex < len(left) and rightIndex < len(right):\n",
    "        if left[leftIndex] < right[rightIndex]:\n",
    "            result.append(left[leftIndex])\n",
    "            leftIndex +=1\n",
    "        else:\n",
    "            result.append(right[rightIndex])\n",
    "            rightIndex+=1\n",
    "    return result+left[leftIndex:]+right[rightIndex:];\n",
    "    \n",
    "def mergeSort(lst):\n",
    "    if len(lst) == 1:\n",
    "        return lst\n",
    "    mid = len(lst)//2\n",
    "    return merge(mergeSort(lst[:mid]),mergeSort(lst[mid:]))\n",
    "# O(n log n)"
   ]
  },
  {
   "cell_type": "markdown",
   "metadata": {},
   "source": [
    "# Space Complexity vs Time Complexity"
   ]
  },
  {
   "cell_type": "markdown",
   "metadata": {},
   "source": [
    "time complexity is the amount of time needed for the function to execute<br>\n",
    "space complexity is the amount of memeory needed for the function to execute"
   ]
  },
  {
   "cell_type": "markdown",
   "metadata": {},
   "source": [
    "#### What causes space complexity?\n",
    "Variables<br>\n",
    "Data Structures<br>\n",
    "Function Call<br>\n",
    "Allocations<br>"
   ]
  }
 ],
 "metadata": {
  "kernelspec": {
   "display_name": "Python 3",
   "language": "python",
   "name": "python3"
  },
  "language_info": {
   "codemirror_mode": {
    "name": "ipython",
    "version": 3
   },
   "file_extension": ".py",
   "mimetype": "text/x-python",
   "name": "python",
   "nbconvert_exporter": "python",
   "pygments_lexer": "ipython3",
   "version": "3.8.5"
  }
 },
 "nbformat": 4,
 "nbformat_minor": 4
}
